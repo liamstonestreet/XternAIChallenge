{
 "cells": [
  {
   "cell_type": "code",
   "execution_count": null,
   "metadata": {},
   "outputs": [],
   "source": [
    "from matplotlib import pyplot as plt\n",
    "import seaborn as sns\n",
    "import pandas as pd"
   ]
  },
  {
   "cell_type": "code",
   "execution_count": null,
   "metadata": {},
   "outputs": [],
   "source": [
    "df = pd.read_csv(\"data.csv\") # this should work. For some reason, it didn't for me, so I used the absolute path as shown below.\n",
    "df = pd.read_csv(\"C:\\\\Users\\\\Owner\\\\Desktop\\\\Coding\\\\Xtern Application\\\\AI Prompt\\\\XternAIChallenge\\\\data.csv\") # the given dataset (csv format)"
   ]
  },
  {
   "cell_type": "code",
   "execution_count": null,
   "metadata": {},
   "outputs": [],
   "source": [
    "course_counts = df['Major'].value_counts()\n",
    "x = list(course_counts.keys())\n",
    "y = list(course_counts.array)\n",
    "\n",
    "# Distribution of Majors (sorted by frequency)\n",
    "plt.bar(x, y)\n",
    "plt.xticks(rotation=90)\n",
    "plt.xlabel(\"Course\")\n",
    "plt.ylabel(\"Frequency\")\n",
    "plt.title(\"Course Sizes (# of people in each course)\")\n",
    "plt.show()"
   ]
  },
  {
   "cell_type": "code",
   "execution_count": null,
   "metadata": {},
   "outputs": [],
   "source": [
    "# Number of orders taken (by University)\n",
    "plt.figure(figsize=(10, 6))\n",
    "sns.countplot(data=df, y='University', hue='Order')\n",
    "plt.title('Popular Orders by University')\n",
    "plt.legend(loc='lower right')\n",
    "plt.show()"
   ]
  },
  {
   "cell_type": "code",
   "execution_count": null,
   "metadata": {},
   "outputs": [],
   "source": [
    "# Number of orders taken (by Major)\n",
    "plt.figure(figsize=(10, 6))\n",
    "sns.countplot(data=df, y='Major', hue='Order')\n",
    "plt.title('Popular Orders by Major')\n",
    "plt.legend(loc='lower right')\n",
    "plt.show()"
   ]
  },
  {
   "cell_type": "code",
   "execution_count": null,
   "metadata": {},
   "outputs": [],
   "source": [
    "# Average Time that orders are taken (by Major)\n",
    "plt.figure(figsize=(10, 6))\n",
    "plt.xticks(rotation=90)\n",
    "sns.barplot(data=df, x='Major', y='Time')\n",
    "plt.title('Average Time by Major')\n",
    "plt.show()"
   ]
  },
  {
   "cell_type": "code",
   "execution_count": null,
   "metadata": {},
   "outputs": [],
   "source": [
    "# Distribution of Orders (by Students' Year -> Freshman - 1, Sophomore - 2, Junior - 3, Senior - 4)\n",
    "plt.figure(figsize=(10, 6))\n",
    "sns.countplot(data=df, x='Year')\n",
    "plt.title('Distribution of Students Across Years')\n",
    "plt.show()"
   ]
  }
 ],
 "metadata": {
  "language_info": {
   "name": "python"
  }
 },
 "nbformat": 4,
 "nbformat_minor": 2
}
