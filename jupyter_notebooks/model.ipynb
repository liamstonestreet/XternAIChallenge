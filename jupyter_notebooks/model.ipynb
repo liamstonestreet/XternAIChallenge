{
 "cells": [
  {
   "cell_type": "code",
   "execution_count": null,
   "metadata": {},
   "outputs": [],
   "source": [
    "from matplotlib import pyplot as plt\n",
    "from sklearn.preprocessing import LabelEncoder\n",
    "from sklearn.model_selection import train_test_split\n",
    "from sklearn.ensemble import RandomForestClassifier\n",
    "from sklearn.metrics import accuracy_score\n",
    "import pandas as pd\n",
    "import pickle"
   ]
  },
  {
   "cell_type": "code",
   "execution_count": null,
   "metadata": {},
   "outputs": [],
   "source": [
    "# preparing the data\n",
    "def load_and_prepare_data():\n",
    "    # df = pd.read_csv(\"jupyter_notebooks\\\\data.csv\") # this should work. It didn't for me, so I used the absolute path as seen below.\n",
    "    df = pd.read_csv(\"C:\\\\Users\\\\Owner\\\\Desktop\\\\Coding\\\\Xtern Application\\\\AI Prompt\\\\XternAIChallenge\\\\data.csv\") # the given dataset (csv format)\n",
    "\n",
    "    # Encode categorical variables\n",
    "    for column in ['Year', 'Major', 'University']:\n",
    "        le = LabelEncoder()\n",
    "        df[column] = le.fit_transform(df[column]) # converts categorical data in all columns to numerical data that the model can accept as input\n",
    "\n",
    "    X = df.drop('Order', axis=1)\n",
    "    y = df['Order']\n",
    "    X_train, X_test, y_train, y_test = train_test_split(X, y, test_size=0.2) # try random state = 79\n",
    "\n",
    "    return X_train, X_test, y_train, y_test"
   ]
  },
  {
   "cell_type": "code",
   "execution_count": null,
   "metadata": {},
   "outputs": [],
   "source": [
    "# converting model to a byte stream and saving it as a file \n",
    "def pickle_model(model):\n",
    "    # creates/overrides file named 'model.pkl'. \n",
    "    pickle.dump(model, open('model.pkl', 'wb')) # 'wb' means binary write mode. (writing to a file)\n",
    "\n",
    "# loading the model from an already-existing .pkl file (not used here, but relevant nevertheless)\n",
    "def load_model(path):\n",
    "    # converts the specified file with filepath 'path' back into a model, and returns the model object\n",
    "    return pickle.load(open(path, 'rb')) # 'rb' means binary read mode. (reading a file)"
   ]
  },
  {
   "cell_type": "code",
   "execution_count": null,
   "metadata": {},
   "outputs": [],
   "source": [
    "# running the model\n",
    "def run_model():\n",
    "    X_train, X_test, y_train, y_test = load_and_prepare_data() # training and testing data\n",
    "\n",
    "    clf = RandomForestClassifier(n_estimators=100, random_state=42) # using a Random Forest Classifier\n",
    "    clf.fit(X_train, y_train)\n",
    "    pickle_model(clf) # save the model to a file so that it can be accessed later without having to retrain it from scratch\n",
    "\n",
    "    y_pred = clf.predict(X_test)\n",
    "    accuracy = accuracy_score(y_test, y_pred)\n",
    "    return f\"Model Accuracy: {accuracy * 100:.2f}%\""
   ]
  },
  {
   "cell_type": "code",
   "execution_count": null,
   "metadata": {},
   "outputs": [],
   "source": [
    "# printing the results\n",
    "print(run_model())"
   ]
  }
 ],
 "metadata": {
  "language_info": {
   "name": "python"
  }
 },
 "nbformat": 4,
 "nbformat_minor": 2
}
